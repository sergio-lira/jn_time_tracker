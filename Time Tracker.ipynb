{
 "cells": [
  {
   "cell_type": "code",
   "execution_count": 40,
   "metadata": {},
   "outputs": [],
   "source": [
    "import csv\n",
    "import time\n",
    "import re\n",
    "import string\n",
    "import requests\n",
    "import pytz\n",
    "import pickle\n",
    "import pandas as pd\n",
    "import numpy as np\n",
    "import matplotlib.pyplot as plt\n",
    "from math import ceil\n",
    "from datetime import datetime, timedelta, date\n",
    "from dateutil.relativedelta import relativedelta\n",
    "from email.utils import parsedate_tz\n",
    "from email.utils import mktime_tz\n",
    "from sqlalchemy import Column, Integer, DateTime, Interval, PickleType, String, select, func, create_engine\n",
    "from sqlalchemy.orm import sessionmaker\n",
    "from sqlalchemy.ext.declarative import declarative_base"
   ]
  },
  {
   "cell_type": "code",
   "execution_count": 41,
   "metadata": {
    "scrolled": true
   },
   "outputs": [],
   "source": [
    "# Copyright (c) 2018 Sergio Lira <sergio.lira@gmail.com>\n",
    "#\n",
    "# MIT Licence. See http://opensource.org/licenses/MIT\n",
    "#\n",
    "# Created on 2018-12-03\n",
    "#\n",
    "\n",
    "engine = create_engine('sqlite://', echo=False)\n",
    "Base = declarative_base(bind=engine)\n",
    "\n",
    "class TimeEntry(Base):\n",
    "    __tablename__ = 'time_entry'\n",
    "    id = Column(Integer, primary_key=True)\n",
    "    date_time = Column(DateTime)\n",
    "    sdate = Column(String)\n",
    "    month = Column(Integer)\n",
    "    day = Column(Integer)\n",
    "    year = Column(Integer)\n",
    "    concepts = Column(PickleType)   \n",
    "        \n",
    "    def __init__(self, date_time, sdate, month, day, year, concepts):\n",
    "        self.date_time = date_time\n",
    "        self.sdate = sdate\n",
    "        self.month = month\n",
    "        self.day = day\n",
    "        self.year = year\n",
    "        self.concepts = concepts\n",
    "        \n",
    "class TimeSpent(Base):\n",
    "    __tablename__ = 'time_spent'\n",
    "    id = Column(Integer, primary_key=True)\n",
    "    sdate = Column(String)\n",
    "    year = Column(Integer)\n",
    "    month = Column(Integer)\n",
    "    day = Column(Integer)\n",
    "    time_delta = Column(Integer)\n",
    "    concept = Column(String)\n",
    "    \n",
    "    def __init__(self, sdate, month, day, year, concept, time_delta):\n",
    "        self.sdate = sdate\n",
    "        self.month = month\n",
    "        self.day = day\n",
    "        self.year = year\n",
    "        self.concept = concept\n",
    "        self.time_delta = time_delta\n",
    "\n",
    "Base.metadata.create_all()\n",
    "Session = sessionmaker(bind=engine)\n",
    "\n",
    "class TimeTracker:\n",
    "    \n",
    "    def __init__(self, content, n_days=15, n_months = 3, censor_concepts = False):\n",
    "        self._content = content\n",
    "        self.n_days = n_days\n",
    "        self.n_months = n_months\n",
    "        self._censor_concepts = censor_concepts\n",
    "        self._db = Session()\n",
    "\n",
    "    def load_content(self):\n",
    "        \"\"\"\n",
    "        Initializes the TimeTracker database \n",
    "        If the content is of file type txt it initializes by parsing the file else by reading each row in content.\n",
    "        returns row count added\n",
    "        \"\"\"\n",
    "        #Set look back date and cut_date from max between n_days and n_months        \n",
    "        look_back = max(self.n_days//31, self.n_months)\n",
    "        self._cut_date = datetime.today() - relativedelta(months=look_back)\n",
    "        self._cut_date = date(self._cut_date.date().year, self._cut_date.date().month, 1)\n",
    "        \n",
    "        if self._content.endswith('.txt'):\n",
    "            return self._load_fromm_file()\n",
    "        else:\n",
    "            return self._load_fromm_file()\n",
    "        \n",
    "        \n",
    "    def _extract_values_from_row(self, row):\n",
    "        #Clean date row, format and extract date fields\n",
    "        #row[0] = row[0].replace(\",\",\"\").replace(\"at\",\"\")\n",
    "        date_time= datetime.fromtimestamp(mktime_tz(parsedate_tz(row[0])))\n",
    "        date_time = date_time.astimezone(pytz.utc)\n",
    "        sdate = date_time.strftime(\"%Y-%m-%d\")\n",
    "        month = int(date_time.strftime('%m'))\n",
    "        day = int(date_time.strftime('%d'))\n",
    "        year = int(date_time.strftime('%Y'))\n",
    "        #Extract question and score\n",
    "        concepts = row[1].strip().split(';')\n",
    "        if self._censor_concepts:\n",
    "            censored_concepts = []\n",
    "            for concept in concepts:\n",
    "                concept = ''.join(['*' if i%3==0 else ch for i, ch in enumerate(concept)])\n",
    "                censored_concepts.append(concept)\n",
    "            concepts = censored_concepts\n",
    "        return TimeEntry(date_time, sdate, month, day, year, concepts)\n",
    "        \n",
    "    def _load_fromm_file(self):\n",
    "        with open(self._content, \"r\") as txtfile:        \n",
    "            reader = csv.reader(txtfile, delimiter='|', quotechar='\"')    \n",
    "            row_count = 0\n",
    "            for row in reader:\n",
    "                #Skip any row that does not matcht he format, including empty rows.\n",
    "                if len(row) == 2:\n",
    "                    #Clean date row, format and extract date fields\n",
    "                    time_entry = self._extract_values_from_row(row)\n",
    "                    #Only insert date if it will be used\n",
    "                    if date(time_entry.year, time_entry.month, time_entry.day) >= self._cut_date:\n",
    "                        #Write to in-memory database\n",
    "                        self._db.add(time_entry)\n",
    "                        self._db.commit()\n",
    "                    row_count += 1\n",
    "        return row_count\n",
    "    \n",
    "    def _calculate_time(self):\n",
    "        entries = [entry for entry in self._db.query(TimeEntry).order_by(TimeEntry.date_time)]\n",
    "        if len(entries) > 0 :\n",
    "            last_entry = entries[0]\n",
    "            for current_entry in entries[1:]:\n",
    "                time_delta = current_entry.date_time - last_entry.date_time\n",
    "                for concept in last_entry.concepts:\n",
    "                    #print('{} {}: {}'.format(current_entry.sdate, concept, time_delta))\n",
    "                    time_spent = TimeSpent(current_entry.sdate, \n",
    "                                           current_entry.month, \n",
    "                                           current_entry.day,\n",
    "                                           current_entry.year,\n",
    "                                           concept.strip(),\n",
    "                                           time_delta.total_seconds())\n",
    "                    self._db.add(time_spent)\n",
    "                    self._db.commit()\n",
    "                last_entry = current_entry"
   ]
  },
  {
   "cell_type": "code",
   "execution_count": 42,
   "metadata": {
    "scrolled": true
   },
   "outputs": [
    {
     "name": "stdout",
     "output_type": "stream",
     "text": [
      "Loaded 657 time entry rows, inserted 657.\n",
      "Found 688 time spent entries.\n"
     ]
    }
   ],
   "source": [
    "log_file = '/Users/sergio/Dropbox/Reference/Automation/LogTime.txt'\n",
    "tt = TimeTracker(log_file, censor_concepts = True)\n",
    "rows_loaded = tt.load_content()\n",
    "print('Loaded {} time entry rows, inserted {}.'.format(rows_loaded, tt._db.query(TimeEntry.id).count()))\n",
    "#for entry in tt._db.query(TimeEntry):\n",
    "   #print(entry.id, entry.date_time, entry.sdate, entry.month, entry.day, entry.year, entry.concepts)\n",
    "tt._calculate_time()\n",
    "print('Found {} time spent entries.'.format(tt._db.query(TimeSpent.id).count()))"
   ]
  },
  {
   "cell_type": "code",
   "execution_count": 43,
   "metadata": {},
   "outputs": [
    {
     "name": "stdout",
     "output_type": "stream",
     "text": [
      "Concept totals:\n",
      "[('*le*pi*g', 721869), ('*or*in*', 325142), ('*ea*in* -*Fi*ti*n', 207437), ('*el*-C*re', 149824), ('*nt*rn*t *ed*a', 140565), ('*ho*es', 130701), ('*ni*e', 118143), ('*ro*ec*', 110493), ('*om*ut*ng', 92301), ('*am*', 90054), ('*at*ng', 84971), ('*dm*ni*tr*ti*n', 72840), ('*oc*al*zi*g', 43139), ('*ed*ta*in*', 40555), ('*ea*in* -*No*Fi*ti*n', 24446), ('*on*ex* S*it*h', 19255), ('*tu*yi*g', 17095), ('*ov*', 16383), ('*ap*ne*e', 15566), ('*ig*re*', 13900), ('*ov*es*or*Se*ie*', 13705), ('*ud*ob*ok* o* P*dc*st*', 10035), ('*an*a', 9575), ('*el*xi*g', 7611), ('*oc*or* a*d *ea*th', 6712), ('*ho*pi*g', 5407), ('*xe*ci*in*', 2700)]\n"
     ]
    }
   ],
   "source": [
    "print('Concept totals:')\n",
    "print(tt._db.query(TimeSpent.concept, \n",
    "                   func.sum(TimeSpent.time_delta))\\\n",
    "                       .group_by(TimeSpent.concept)\\\n",
    "                       .order_by(func.sum(TimeSpent.time_delta).desc()).all())"
   ]
  },
  {
   "cell_type": "markdown",
   "metadata": {},
   "source": [
    "https://www.digitalocean.com/community/tutorials/data-analysis-and-visualization-with-pandas-and-jupyter-notebook-in-python-3\n",
    "http://pbpython.com/simple-graphing-pandas.html"
   ]
  }
 ],
 "metadata": {
  "kernelspec": {
   "display_name": "Python [conda root]",
   "language": "python",
   "name": "conda-root-py"
  },
  "language_info": {
   "codemirror_mode": {
    "name": "ipython",
    "version": 3
   },
   "file_extension": ".py",
   "mimetype": "text/x-python",
   "name": "python",
   "nbconvert_exporter": "python",
   "pygments_lexer": "ipython3",
   "version": "3.6.3"
  }
 },
 "nbformat": 4,
 "nbformat_minor": 2
}
